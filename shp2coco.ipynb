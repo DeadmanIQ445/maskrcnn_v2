{
 "cells": [
  {
   "cell_type": "markdown",
   "metadata": {
    "pycharm": {
     "name": "#%% md\n"
    }
   },
   "source": [
    "## Data imports"
   ]
  },
  {
   "cell_type": "code",
   "execution_count": 1,
   "metadata": {
    "pycharm": {
     "name": "#%%\n"
    }
   },
   "outputs": [],
   "source": [
    "import datetime\n",
    "import json\n",
    "import re\n",
    "import fnmatch\n",
    "from utils.preprocess import pycococreatortools\n",
    "from utils.preprocess.tif_process import *\n",
    "from utils.preprocess.slice_dataset import slice"
   ]
  },
  {
   "cell_type": "markdown",
   "metadata": {
    "pycharm": {
     "name": "#%% md\n"
    }
   },
   "source": [
    "Specify parameters of dataset"
   ]
  },
  {
   "cell_type": "code",
   "execution_count": 2,
   "metadata": {
    "pycharm": {
     "name": "#%%\n"
    }
   },
   "outputs": [],
   "source": [
    "# root path for saving the tif and shp file.\n",
    "ROOT = r'/home/ari/data/ZU/test_new_maskrcnn'\n",
    "img_path = 'Raster'\n",
    "shp_path = 'Razmetka2'\n",
    "\n",
    "# root path for saving the mask.\n",
    "ROOT_DIR = ROOT + '/dataset_10242'\n",
    "IMAGE_DIR = os.path.join(ROOT_DIR, \"uchastok_2019\")\n",
    "ANNOTATION_DIR = os.path.join(ROOT_DIR, \"annotations\")\n",
    "\n",
    "clip_size = 1024"
   ]
  },
  {
   "cell_type": "markdown",
   "metadata": {
    "pycharm": {
     "name": "#%% md\n"
    }
   },
   "source": [
    "## Configs (do not change)"
   ]
  },
  {
   "cell_type": "code",
   "execution_count": 3,
   "metadata": {
    "pycharm": {
     "name": "#%%\n"
    }
   },
   "outputs": [],
   "source": [
    "INFO = {\n",
    "    \"description\": \"ZemleUchastki\",\n",
    "    \"url\": \"\",\n",
    "    \"version\": \"0.1.1\",\n",
    "    \"year\": 2021,\n",
    "    \"contributor\": \"Ibragim, Shamil\",\n",
    "    \"date_created\": datetime.datetime.utcnow().isoformat(' ')\n",
    "}\n",
    "\n",
    "LICENSES = [\n",
    "    {\n",
    "        \"id\": 1,\n",
    "        \"name\": \"\",\n",
    "        \"url\": \"\"\n",
    "    }\n",
    "]\n",
    "\n",
    "CATEGORIES = [\n",
    "    {\n",
    "        'id': 1,\n",
    "        'name': 'uchastok',\n",
    "        'supercategory': 'land',\n",
    "    },\n",
    "]"
   ]
  },
  {
   "cell_type": "markdown",
   "metadata": {
    "pycharm": {
     "name": "#%% md\n"
    }
   },
   "source": [
    "## Code (do not change)"
   ]
  },
  {
   "cell_type": "code",
   "execution_count": 4,
   "metadata": {
    "pycharm": {
     "name": "#%%\n"
    }
   },
   "outputs": [],
   "source": [
    "def filter_for_jpeg(root, files):\n",
    "    # file_types = ['*.jpeg', '*.jpg']\n",
    "    file_types = ['*.tiff', '*.tif']\n",
    "    file_types = r'|'.join([fnmatch.translate(x) for x in file_types])\n",
    "    files = [os.path.join(root, f) for f in files]\n",
    "    files = [f for f in files if re.match(file_types, f)]\n",
    "\n",
    "    return files\n",
    "\n",
    "def filter_for_annotations(root, files, image_filename):\n",
    "    # file_types = ['*.png']\n",
    "    file_types = ['*.tif']\n",
    "    file_types = r'|'.join([fnmatch.translate(x) for x in file_types])\n",
    "    basename_no_extension = os.path.splitext(os.path.basename(image_filename))[0]\n",
    "    # file_name_prefix = basename_no_extension + '.*'\n",
    "    files = [os.path.join(root, f) for f in files]\n",
    "    files = [f for f in files if re.match(file_types, f)]\n",
    "    # files = [f for f in files if re.match(file_name_prefix, os.path.splitext(os.path.basename(f))[0])]\n",
    "    files = [f for f in files if basename_no_extension == os.path.splitext(os.path.basename(f))[0].split('_', 1)[0]]\n",
    "\n",
    "    return files\n",
    "\n",
    "def from_mask_to_coco(root, MARK, IMAGE, ANNOTATION):\n",
    "    ROOT_DIR = root + '/' + MARK\n",
    "    IMAGE_DIR = ROOT_DIR + '/' + IMAGE\n",
    "    ANNOTATION_DIR = ROOT_DIR + '/' + ANNOTATION\n",
    "    if os.path.exists(ROOT_DIR):\n",
    "        coco_output = {\n",
    "            \"info\": INFO,\n",
    "            \"licenses\": LICENSES,\n",
    "            \"categories\": CATEGORIES,\n",
    "            \"images\": [],\n",
    "            \"annotations\": []\n",
    "        }\n",
    "\n",
    "        image_id = 1\n",
    "        segmentation_id = 1\n",
    "\n",
    "        # filter for jpeg images\n",
    "        for root, _, files in os.walk(IMAGE_DIR):\n",
    "            image_files = filter_for_jpeg(root, files)\n",
    "\n",
    "            # go through each image\n",
    "            for image_filename in image_files:\n",
    "                image = Image.open(image_filename)\n",
    "                image_info = pycococreatortools.create_image_info(\n",
    "                    image_id, os.path.basename(image_filename), image.size)\n",
    "                coco_output[\"images\"].append(image_info)\n",
    "\n",
    "                # filter for associated png annotations\n",
    "                for root, _, files in os.walk(ANNOTATION_DIR):\n",
    "                    annotation_files = filter_for_annotations(root, files, image_filename)\n",
    "\n",
    "                    # go through each associated annotation\n",
    "                    for annotation_filename in annotation_files:\n",
    "\n",
    "                        print(annotation_filename)\n",
    "                        class_id = [x['id'] for x in CATEGORIES if x['name'] in annotation_filename][0]\n",
    "\n",
    "                        category_info = {'id': class_id, 'is_crowd': 'crowd' in image_filename}\n",
    "                        binary_mask = np.asarray(Image.open(annotation_filename)\n",
    "                                                 .convert('1')).astype(np.uint8)\n",
    "\n",
    "                        annotation_info = pycococreatortools.create_annotation_info(\n",
    "                            segmentation_id, image_id, category_info, binary_mask,\n",
    "                            image.size, tolerance=2)\n",
    "\n",
    "                        if annotation_info is not None:\n",
    "                            coco_output[\"annotations\"].append(annotation_info)\n",
    "\n",
    "                        segmentation_id = segmentation_id + 1\n",
    "\n",
    "                image_id = image_id + 1\n",
    "\n",
    "        with open('{}/uchastok_{}2021.json'.format(ROOT_DIR, MARK), 'w') as output_json_file:\n",
    "            json.dump(coco_output, output_json_file)\n",
    "    else:\n",
    "        print(ROOT_DIR + ' does not exit!')"
   ]
  },
  {
   "cell_type": "markdown",
   "metadata": {
    "pycharm": {
     "name": "#%% md\n"
    }
   },
   "source": [
    "## Launching code"
   ]
  },
  {
   "cell_type": "code",
   "execution_count": 5,
   "metadata": {
    "pycharm": {
     "name": "#%%\n"
    },
    "scrolled": true,
    "tags": []
   },
   "outputs": [
    {
     "name": "stdout",
     "output_type": "stream",
     "text": [
      "create dir /home/ari/data/ZU/test_new_maskrcnn/dataset_10242/annotations\n",
      "create dir /home/ari/data/ZU/test_new_maskrcnn/dataset_10242/uchastok_2021\n",
      "/home/ari/data/ZU/test_new_maskrcnn/dataset_10242/train/annotations/206.tif\n"
     ]
    },
    {
     "ename": "IndexError",
     "evalue": "list index out of range",
     "output_type": "error",
     "traceback": [
      "\u001B[0;31m---------------------------------------------------------------------------\u001B[0m",
      "\u001B[0;31mIndexError\u001B[0m                                Traceback (most recent call last)",
      "Input \u001B[0;32mIn [5]\u001B[0m, in \u001B[0;36m<cell line: 8>\u001B[0;34m()\u001B[0m\n\u001B[1;32m      6\u001B[0m     from_mask_to_coco(ROOT_DIR, \u001B[38;5;124m'\u001B[39m\u001B[38;5;124mtest\u001B[39m\u001B[38;5;124m'\u001B[39m, \u001B[38;5;124m\"\u001B[39m\u001B[38;5;124muchastok_2021\u001B[39m\u001B[38;5;124m\"\u001B[39m, \u001B[38;5;124m\"\u001B[39m\u001B[38;5;124mannotations\u001B[39m\u001B[38;5;124m\"\u001B[39m)\n\u001B[1;32m      8\u001B[0m \u001B[38;5;28;01mif\u001B[39;00m \u001B[38;5;18m__name__\u001B[39m \u001B[38;5;241m==\u001B[39m \u001B[38;5;124m\"\u001B[39m\u001B[38;5;124m__main__\u001B[39m\u001B[38;5;124m\"\u001B[39m:\n\u001B[0;32m----> 9\u001B[0m     \u001B[43mmain\u001B[49m\u001B[43m(\u001B[49m\u001B[43m)\u001B[49m\n",
      "Input \u001B[0;32mIn [5]\u001B[0m, in \u001B[0;36mmain\u001B[0;34m()\u001B[0m\n\u001B[1;32m      2\u001B[0m clip_from_file(clip_size, ROOT, img_path, shp_path, ROOT_DIR)\n\u001B[1;32m      3\u001B[0m \u001B[38;5;28mslice\u001B[39m(ROOT_DIR, train\u001B[38;5;241m=\u001B[39m\u001B[38;5;241m0.8\u001B[39m, \u001B[38;5;28meval\u001B[39m\u001B[38;5;241m=\u001B[39m\u001B[38;5;241m0.15\u001B[39m, test\u001B[38;5;241m=\u001B[39m\u001B[38;5;241m0.05\u001B[39m)\n\u001B[0;32m----> 4\u001B[0m \u001B[43mfrom_mask_to_coco\u001B[49m\u001B[43m(\u001B[49m\u001B[43mROOT_DIR\u001B[49m\u001B[43m,\u001B[49m\u001B[43m \u001B[49m\u001B[38;5;124;43m'\u001B[39;49m\u001B[38;5;124;43mtrain\u001B[39;49m\u001B[38;5;124;43m'\u001B[39;49m\u001B[43m,\u001B[49m\u001B[43m \u001B[49m\u001B[38;5;124;43m\"\u001B[39;49m\u001B[38;5;124;43muchastok_2021\u001B[39;49m\u001B[38;5;124;43m\"\u001B[39;49m\u001B[43m,\u001B[49m\u001B[43m \u001B[49m\u001B[38;5;124;43m\"\u001B[39;49m\u001B[38;5;124;43mannotations\u001B[39;49m\u001B[38;5;124;43m\"\u001B[39;49m\u001B[43m)\u001B[49m\n\u001B[1;32m      5\u001B[0m from_mask_to_coco(ROOT_DIR, \u001B[38;5;124m'\u001B[39m\u001B[38;5;124meval\u001B[39m\u001B[38;5;124m'\u001B[39m, \u001B[38;5;124m\"\u001B[39m\u001B[38;5;124muchastok_2021\u001B[39m\u001B[38;5;124m\"\u001B[39m, \u001B[38;5;124m\"\u001B[39m\u001B[38;5;124mannotations\u001B[39m\u001B[38;5;124m\"\u001B[39m)\n\u001B[1;32m      6\u001B[0m from_mask_to_coco(ROOT_DIR, \u001B[38;5;124m'\u001B[39m\u001B[38;5;124mtest\u001B[39m\u001B[38;5;124m'\u001B[39m, \u001B[38;5;124m\"\u001B[39m\u001B[38;5;124muchastok_2021\u001B[39m\u001B[38;5;124m\"\u001B[39m, \u001B[38;5;124m\"\u001B[39m\u001B[38;5;124mannotations\u001B[39m\u001B[38;5;124m\"\u001B[39m)\n",
      "Input \u001B[0;32mIn [4]\u001B[0m, in \u001B[0;36mfrom_mask_to_coco\u001B[0;34m(root, MARK, IMAGE, ANNOTATION)\u001B[0m\n\u001B[1;32m     55\u001B[0m \u001B[38;5;28;01mfor\u001B[39;00m annotation_filename \u001B[38;5;129;01min\u001B[39;00m annotation_files:\n\u001B[1;32m     57\u001B[0m     \u001B[38;5;28mprint\u001B[39m(annotation_filename)\n\u001B[0;32m---> 58\u001B[0m     class_id \u001B[38;5;241m=\u001B[39m \u001B[43m[\u001B[49m\u001B[43mx\u001B[49m\u001B[43m[\u001B[49m\u001B[38;5;124;43m'\u001B[39;49m\u001B[38;5;124;43mid\u001B[39;49m\u001B[38;5;124;43m'\u001B[39;49m\u001B[43m]\u001B[49m\u001B[43m \u001B[49m\u001B[38;5;28;43;01mfor\u001B[39;49;00m\u001B[43m \u001B[49m\u001B[43mx\u001B[49m\u001B[43m \u001B[49m\u001B[38;5;129;43;01min\u001B[39;49;00m\u001B[43m \u001B[49m\u001B[43mCATEGORIES\u001B[49m\u001B[43m \u001B[49m\u001B[38;5;28;43;01mif\u001B[39;49;00m\u001B[43m \u001B[49m\u001B[43mx\u001B[49m\u001B[43m[\u001B[49m\u001B[38;5;124;43m'\u001B[39;49m\u001B[38;5;124;43mname\u001B[39;49m\u001B[38;5;124;43m'\u001B[39;49m\u001B[43m]\u001B[49m\u001B[43m \u001B[49m\u001B[38;5;129;43;01min\u001B[39;49;00m\u001B[43m \u001B[49m\u001B[43mannotation_filename\u001B[49m\u001B[43m]\u001B[49m\u001B[43m[\u001B[49m\u001B[38;5;241;43m0\u001B[39;49m\u001B[43m]\u001B[49m\n\u001B[1;32m     60\u001B[0m     category_info \u001B[38;5;241m=\u001B[39m {\u001B[38;5;124m'\u001B[39m\u001B[38;5;124mid\u001B[39m\u001B[38;5;124m'\u001B[39m: class_id, \u001B[38;5;124m'\u001B[39m\u001B[38;5;124mis_crowd\u001B[39m\u001B[38;5;124m'\u001B[39m: \u001B[38;5;124m'\u001B[39m\u001B[38;5;124mcrowd\u001B[39m\u001B[38;5;124m'\u001B[39m \u001B[38;5;129;01min\u001B[39;00m image_filename}\n\u001B[1;32m     61\u001B[0m     binary_mask \u001B[38;5;241m=\u001B[39m np\u001B[38;5;241m.\u001B[39masarray(Image\u001B[38;5;241m.\u001B[39mopen(annotation_filename)\n\u001B[1;32m     62\u001B[0m                              \u001B[38;5;241m.\u001B[39mconvert(\u001B[38;5;124m'\u001B[39m\u001B[38;5;124m1\u001B[39m\u001B[38;5;124m'\u001B[39m))\u001B[38;5;241m.\u001B[39mastype(np\u001B[38;5;241m.\u001B[39muint8)\n",
      "\u001B[0;31mIndexError\u001B[0m: list index out of range"
     ]
    }
   ],
   "source": [
    "def main():\n",
    "    clip_from_file(clip_size, ROOT, img_path, shp_path, ROOT_DIR)\n",
    "    slice(ROOT_DIR, train=0.8, eval=0.15, test=0.05)\n",
    "    from_mask_to_coco(ROOT_DIR, 'train', \"uchastok_2021\", \"annotations\")\n",
    "    from_mask_to_coco(ROOT_DIR, 'eval', \"uchastok_2021\", \"annotations\")\n",
    "    from_mask_to_coco(ROOT_DIR, 'test', \"uchastok_2021\", \"annotations\")\n",
    "\n",
    "if __name__ == \"__main__\":\n",
    "    main()"
   ]
  },
  {
   "cell_type": "code",
   "execution_count": null,
   "metadata": {
    "pycharm": {
     "name": "#%%\n"
    }
   },
   "outputs": [],
   "source": []
  }
 ],
 "metadata": {
  "kernelspec": {
   "display_name": "Python 3 (ipykernel)",
   "language": "python",
   "name": "python3"
  },
  "language_info": {
   "codemirror_mode": {
    "name": "ipython",
    "version": 3
   },
   "file_extension": ".py",
   "mimetype": "text/x-python",
   "name": "python",
   "nbconvert_exporter": "python",
   "pygments_lexer": "ipython3",
   "version": "3.9.6"
  }
 },
 "nbformat": 4,
 "nbformat_minor": 4
}